{
 "cells": [
  {
   "cell_type": "code",
   "execution_count": 1,
   "metadata": {},
   "outputs": [],
   "source": [
    "import manim"
   ]
  },
  {
   "cell_type": "code",
   "execution_count": 17,
   "metadata": {},
   "outputs": [],
   "source": [
    "from manim import *\n",
    "class Pendulum(VGroup):\n",
    "    def phi_fun(self, amplitude,acceleration,length,time):\n",
    "        return amplitude*np.sin(np.sqrt(acceleration/length)*time-np.pi/2)\n",
    "\n",
    "    def __init__(self,amplitude, acceleration, length ,time, weight):\n",
    "        VGroup.__init__(self)\n",
    "        self.sound_stamps_there = []\n",
    "        self.sound_stamps_back = []\n",
    "\n",
    "        self.amplitude= amplitude\n",
    "        self.acceleration= acceleration\n",
    "        self.length = length\n",
    "        self.time = time\n",
    "        self.phi = self.phi_fun(amplitude, acceleration, length, time)\n",
    "        self.anchor = Dot(ORIGIN)\n",
    "        self.line1 = Line(ORIGIN, length*DOWN)\n",
    "        self.line1.rotate(self.phi*DEGREES, about_point=self.line1.get_start())\n",
    "        self.mass1 = LabeledDot(label= f\"{weight}\" + r\"\\, \\text{kg}\").scale(0.3)\n",
    "        self.mass1.move_to(self.line1.get_end())\n",
    "        self.mobj = VGroup(self.line1, self.anchor,self.mass1)\n",
    "        self.add(self.mobj)\n",
    "        \n",
    "    def start(self):\n",
    "        self.mobj.current_time = 0.000001\n",
    "        def updater(mob, dt):\n",
    "            mob.current_time += dt\n",
    "            new_phi= self.phi_fun(self.amplitude,self.acceleration,self.length,mob.current_time)\n",
    "            mob[0].rotate((new_phi-self.phi)*DEGREES, about_point=self.line1.get_start())\n",
    "            if np.sign(self.phi) < np.sign(new_phi) :\n",
    "                self.sound_stamps_there.append(mob.current_time)\n",
    "            if np.sign(self.phi) > np.sign(new_phi) :\n",
    "                self.sound_stamps_back.append(mob.current_time)\n",
    "\n",
    "\n",
    "            self.phi= new_phi\n",
    "            self.mass1.move_to(self.line1.get_end())\n",
    "\n",
    "        self.mobj.add_updater(updater)\n",
    "        "
   ]
  },
  {
   "cell_type": "code",
   "execution_count": 34,
   "metadata": {},
   "outputs": [
    {
     "name": "stderr",
     "output_type": "stream",
     "text": [
      "                                                            \r"
     ]
    },
    {
     "data": {
      "text/html": [
       "<video src=\"media/jupyter/fef821aa139a5fc6c43dc60099d67760cefec418.mp4\" controls autoplay loop style=\"max-width: 100%;\"  >\n",
       "      Your browser does not support the <code>video</code> element.\n",
       "    </video>"
      ],
      "text/plain": [
       "<IPython.core.display.Video object>"
      ]
     },
     "metadata": {},
     "output_type": "display_data"
    }
   ],
   "source": [
    "%%manim PenulumSceneXXX  -p -qm -v WARNING --disable_caching \n",
    "class PenulumSceneXXX(Scene):\n",
    "    def construct(self):\n",
    "        weights = [1,2,3,4,5,6,7,8,9]\n",
    "        total= len(weights)\n",
    "        for i,weight in enumerate(weights):\n",
    "            pendulum = Pendulum(amplitude=10,acceleration= 10, length=2+weight*0.3,time= 0,weight= 1)\n",
    "\n",
    "            anchor_pos= pendulum.anchor.get_center()\n",
    "            dest_pos = (-total/2+i)*RIGHT+2*UP\n",
    "            pendulum.shift(anchor_pos+dest_pos)\n",
    "            self.add(pendulum)\n",
    "            pendulum.start()\n",
    "        waiting_time=20\n",
    "        self.wait(waiting_time)\n",
    "\n",
    "        for mobj in self.mobjects:\n",
    "            for sound_stamp in mobj.sound_stamps_there:\n",
    "                self.add_sound(\"tick.mp3\", time_offset=-waiting_time + sound_stamp)\n",
    "            for sound_stamp in mobj.sound_stamps_back:\n",
    "                self.add_sound(\"tock.mp3\", time_offset=-waiting_time + sound_stamp)\n",
    "       \n",
    "        self.wait()\n"
   ]
  },
  {
   "cell_type": "code",
   "execution_count": 145,
   "metadata": {},
   "outputs": [
    {
     "name": "stdout",
     "output_type": "stream",
     "text": [
      "3d_stack_images.py       \u001b[34mmedia\u001b[m\u001b[m                    \u001b[34msamples\u001b[m\u001b[m\r\n",
      "\u001b[34mcode_matplotlib_tex_idea\u001b[m\u001b[m olaf_edit.py             tick.mp3\r\n",
      "manim_pendulum.ipynb     run_manim.py             tock.mp3\r\n"
     ]
    }
   ],
   "source": [
    "!ls"
   ]
  },
  {
   "cell_type": "code",
   "execution_count": 146,
   "metadata": {},
   "outputs": [
    {
     "name": "stdout",
     "output_type": "stream",
     "text": [
      "/Users/jan-hendrik/projects/manim/kolibril_projects/first_point\r\n"
     ]
    }
   ],
   "source": [
    "!pwd"
   ]
  },
  {
   "cell_type": "code",
   "execution_count": 138,
   "metadata": {},
   "outputs": [
    {
     "data": {
      "text/plain": [
       "-1"
      ]
     },
     "execution_count": 138,
     "metadata": {},
     "output_type": "execute_result"
    }
   ],
   "source": [
    "np.sign(-1)"
   ]
  },
  {
   "cell_type": "code",
   "execution_count": 156,
   "metadata": {},
   "outputs": [
    {
     "data": {
      "text/html": [
       "<video src=\"media/jupyter/0dde142d41c7729e553aa78dce70cbe34736523e.mp4\" controls autoplay loop style=\"max-width: 100%;\"  >\n",
       "      Your browser does not support the <code>video</code> element.\n",
       "    </video>"
      ],
      "text/plain": [
       "<IPython.core.display.Video object>"
      ]
     },
     "metadata": {},
     "output_type": "display_data"
    }
   ],
   "source": [
    "%%manim PenulumSceneX  -p -qm -v WARNING --disable_caching  \n",
    "\n",
    "class PenulumSceneX(Scene):\n",
    "    def construct(self):\n",
    "        group=VGroup(Dot(LEFT),Dot(ORIGIN), Dot(RIGHT, color=RED), Dot(2*RIGHT))\n",
    "        dest= Dot(np.random.rand(3)*4, color= YELLOW)\n",
    "        self.add(group,dest)\n",
    "        self.add_sound(\"tick.mp3\")\n",
    "        self.wait()\n",
    "        #group.move_to(dest) not working\n"
   ]
  },
  {
   "cell_type": "code",
   "execution_count": 109,
   "metadata": {},
   "outputs": [
    {
     "data": {
      "image/png": "[encoded data removed]",
      "text/plain": [
       "<IPython.core.display.Image object>"
      ]
     },
     "metadata": {},
     "output_type": "display_data"
    }
   ],
   "source": [
    "%%manim PenulumSceneXX  -p -qm -v WARNING --disable_caching  -s\n",
    "\n",
    "class PenulumSceneXX(Scene):\n",
    "    def construct(self):\n",
    "        group=VGroup(Dot(LEFT),Dot(ORIGIN), Dot(RIGHT, color=RED), Dot(2*RIGHT))\n",
    "        dest= Dot(np.random.rand(3)*4, color= YELLOW).scale(0.8)\n",
    "        self.add(group,dest)\n",
    "        group.shift(dest.get_center()-group[2].get_center())\n"
   ]
  }
 ],
 "metadata": {
  "kernelspec": {
   "display_name": "Python 3",
   "language": "python",
   "name": "python3"
  },
  "language_info": {
   "codemirror_mode": {
    "name": "ipython",
    "version": 3
   },
   "file_extension": ".py",
   "mimetype": "text/x-python",
   "name": "python",
   "nbconvert_exporter": "python",
   "pygments_lexer": "ipython3",
   "version": "3.9.1"
  }
 },
 "nbformat": 4,
 "nbformat_minor": 4
}
