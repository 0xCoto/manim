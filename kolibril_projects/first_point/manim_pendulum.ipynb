{
 "cells": [
  {
   "cell_type": "code",
   "execution_count": 1,
   "metadata": {},
   "outputs": [],
   "source": [
    "from manim import *"
   ]
  },
  {
   "cell_type": "code",
   "execution_count": 2,
   "metadata": {},
   "outputs": [],
   "source": [
    "def Pendulum(amplitude, acceleration, length ,time):\n",
    "    \n",
    "    phi = amplitude*np.sin(np.sqrt(acceleration/length)*time)\n",
    "    anchor = Dot(ORIGIN)\n",
    "    line1 = Line(ORIGIN, length*DOWN).rotate_about_origin(phi*DEGREES, ORIGIN)\n",
    "    mobj = VGroup(line1, anchor)\n",
    "    return mobj\n",
    "    "
   ]
  },
  {
   "cell_type": "code",
   "execution_count": 3,
   "metadata": {},
   "outputs": [
    {
     "name": "stderr",
     "output_type": "stream",
     "text": [
      "                                                                                              \r"
     ]
    },
    {
     "data": {
      "text/html": [
       "<video src=\"media/jupyter/865aa623690697524352444a94a1c32e1ee9957a.mp4\" controls autoplay loop style=\"max-width: 100%;\"  >\n",
       "      Your browser does not support the <code>video</code> element.\n",
       "    </video>"
      ],
      "text/plain": [
       "<IPython.core.display.Video object>"
      ]
     },
     "metadata": {},
     "output_type": "display_data"
    }
   ],
   "source": [
    "%%manim PenulumScene  -p -qm -v WARNING --disable_caching\n",
    "\n",
    "class PenulumScene(Scene):\n",
    "    def construct(self):\n",
    "        val_tracker = ValueTracker(0)\n",
    "        pendulum = Pendulum(4, 10, 3, val_tracker.get_value())\n",
    "        pendulum.add_updater(lambda x:x.become(Pendulum(4, 10, 3, val_tracker.get_value())))\n",
    "        self.add(pendulum)\n",
    "        self.play(val_tracker.animate.set_value(15), run_time=4, rate_func= linear)"
   ]
  }
 ],
 "metadata": {
  "kernelspec": {
   "display_name": "manimce",
   "language": "python",
   "name": "manimce"
  },
  "language_info": {
   "codemirror_mode": {
    "name": "ipython",
    "version": 3
   },
   "file_extension": ".py",
   "mimetype": "text/x-python",
   "name": "python",
   "nbconvert_exporter": "python",
   "pygments_lexer": "ipython3",
   "version": "3.8.5"
  }
 },
 "nbformat": 4,
 "nbformat_minor": 4
}
